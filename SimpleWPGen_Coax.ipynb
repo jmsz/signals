{
 "cells": [
  {
   "cell_type": "code",
   "execution_count": 1,
   "metadata": {
    "collapsed": true
   },
   "outputs": [],
   "source": [
    "# SimpleWPGen_Coax\n",
    "# Ren Cooper, LBNL\n",
    "# Gamma-Ray Tracking School, ORNL, October 2018\n",
    "#\n",
    "# very simple Weighting Potential solver for a coaxial HPGe detector via SOR method\n",
    "#  - Disclaimer: for demonstration/example purposes only!\n",
    "#\n",
    "#  - 2D, radial symmetry around core"
   ]
  },
  {
   "cell_type": "code",
   "execution_count": 2,
   "metadata": {
    "collapsed": true
   },
   "outputs": [],
   "source": [
    "%matplotlib inline\n",
    "%reset -f"
   ]
  },
  {
   "cell_type": "code",
   "execution_count": 3,
   "metadata": {
    "collapsed": true
   },
   "outputs": [],
   "source": [
    "import numpy as np\n",
    "from matplotlib import pyplot as plt"
   ]
  },
  {
   "cell_type": "code",
   "execution_count": 4,
   "metadata": {
    "collapsed": true
   },
   "outputs": [],
   "source": [
    "# set some detector parameters\n",
    "detector_length_mm = 90.0\n",
    "detector_radius_mm = 40.0\n",
    "pixel_size_mm = 1.0\n",
    "\n",
    "core_length_mm = 60.0\n",
    "core_radius_mm = 5.0\n",
    "\n",
    "wrap_around_mm = 0.0\n",
    "\n",
    "outer_contact_bias = 0.0\n",
    "core_contact_bias = 1.0\n"
   ]
  },
  {
   "cell_type": "code",
   "execution_count": 5,
   "metadata": {
    "collapsed": true
   },
   "outputs": [],
   "source": [
    "# build (uniform) 2D grids for plotting and solving\n",
    "x_range = np.arange(0, detector_radius_mm + pixel_size_mm, pixel_size_mm)\n",
    "y_range = np.arange(0, detector_length_mm + pixel_size_mm, pixel_size_mm)\n",
    "\n",
    "# initialize grid for solving for V\n",
    "N_xelements = np.shape(x_range)[0]\n",
    "N_yelements = np.shape(y_range)[0]\n",
    "V = np.zeros((N_xelements, N_yelements), dtype=float)\n",
    "\n",
    "# XY mesh for plotting later\n",
    "X, Y = np.meshgrid(y_range, x_range)"
   ]
  },
  {
   "cell_type": "code",
   "execution_count": 6,
   "metadata": {
    "collapsed": true
   },
   "outputs": [],
   "source": [
    "# build a little map of geometry for later, designating pixels based on their nature\n",
    "# Ge = 0 outer contact = 1 core = 2 passivated face = 3\n",
    "geom_map = np.zeros((N_xelements, N_yelements), dtype=int)\n",
    "\n",
    "# outer contact\n",
    "geom_map[(N_xelements-1),:] = 1\n",
    "geom_map[:,(N_yelements-1)] = 1\n",
    "\n",
    "# outer contact wrap around\n",
    "ix = np.where(x_range>=(detector_radius_mm-wrap_around_mm))\n",
    "geom_map[ix,0] = 1\n"
   ]
  },
  {
   "cell_type": "code",
   "execution_count": 7,
   "metadata": {},
   "outputs": [],
   "source": [
    "pixels_to_cm = 10/pixel_size_mm\n",
    "\n",
    "for x in range(0, N_xelements):\n",
    "    for y in range(0, N_yelements):        \n",
    "        # core\n",
    "        if (x_range[x]<core_radius_mm and y_range[y]<core_length_mm):\n",
    "            geom_map[x,y] = 2\n"
   ]
  },
  {
   "cell_type": "code",
   "execution_count": 8,
   "metadata": {
    "collapsed": true
   },
   "outputs": [],
   "source": [
    "# set boundary conditions and initial guess at solution\n",
    "\n",
    "# initial guess at solution \n",
    "\n",
    "# outer contact\n",
    "x,y = np.where(geom_map==1)\n",
    "V[x,y] = outer_contact_bias\n",
    "\n",
    "# core\n",
    "x,y = np.where(geom_map==2)\n",
    "V[x,y] = core_contact_bias\n",
    "\n",
    "# passivated back face (not tested)\n",
    "#x,y = np.where(geom_map==3)\n",
    "#V[x,y] = 0.0"
   ]
  },
  {
   "cell_type": "code",
   "execution_count": 9,
   "metadata": {},
   "outputs": [
    {
     "data": {
      "text/plain": [
       "<matplotlib.colorbar.Colorbar at 0x108a7c490>"
      ]
     },
     "execution_count": 9,
     "metadata": {},
     "output_type": "execute_result"
    },
    {
     "data": {
      "image/png": "[encoded data removed]",
      "text/plain": [
       "<matplotlib.figure.Figure at 0x10724ccd0>"
      ]
     },
     "metadata": {},
     "output_type": "display_data"
    }
   ],
   "source": [
    "# inspect initial conditions for V\n",
    "plt.imshow(V)\n",
    "plt.colorbar()"
   ]
  },
  {
   "cell_type": "code",
   "execution_count": 10,
   "metadata": {
    "collapsed": true
   },
   "outputs": [],
   "source": [
    "# do the relaxation to solve\n",
    "\n",
    "# set maximum number of iterations\n",
    "max_iters = 1000\n",
    "\n",
    "# \"over-relaxation\" factor to speed up convergence\n",
    "t = np.cos(3.14/N_xelements) + np.cos(3.14/N_yelements)\n",
    "w = (8 - np.sqrt(64 - 16*t*t)) / (t*t)\n",
    "\n",
    "# initialise arrays which will store the residuals\n",
    "R = np.zeros((N_xelements, N_yelements), dtype=float)\n",
    "resid_store = np.zeros(max_iters)\n",
    "\n",
    "# perform relaxation...\n",
    "resid = 1e6\n",
    "iterr = 1\n",
    "min_resid = 0.01\n",
    "while (iterr < max_iters and resid > min_resid):    \n",
    "    \n",
    "    # loop over detector grid points\n",
    "    for y in range(0, N_yelements):\n",
    "        for x in range(0, N_xelements):\n",
    "                        \n",
    "            # skip non-Ge pixels\n",
    "            if (geom_map[x,y] != 0):\n",
    "                continue\n",
    "                \n",
    "            # deal with reflection symmetry at x=0\n",
    "            if (x == 0):\n",
    "                V_local_sum = (V[x,y-1] + V[x,y+1] + 2.0*V[x+1,y])\n",
    "                \n",
    "            elif (y == 0):\n",
    "                V_local_sum = (V[x-1,y] + V[x+1,y] + 2.0*V[x,y+1])\n",
    "            \n",
    "            # all other cases\n",
    "            else:                                \n",
    "                V_local_sum = (V[x+1,y] + V[x,y+1] + V[x-1,y] + V[x,y-1])\n",
    "            \n",
    "            # update the solution\n",
    "            R[x,y] = 0.25*V_local_sum - V[x,y]\n",
    "            V[x,y] = V[x,y] + w*R[x,y]\n",
    "            \n",
    "    # calculate the residual and store as a function of iteration number\n",
    "    resid = abs(np.sum(R))\n",
    "    resid_store[iterr] = resid\n",
    "    \n",
    "    # update iteration counter\n",
    "    iterr+=1"
   ]
  },
  {
   "cell_type": "code",
   "execution_count": 11,
   "metadata": {},
   "outputs": [
    {
     "data": {
      "image/png": "[encoded data removed]",
      "text/plain": [
       "<matplotlib.figure.Figure at 0x108c24790>"
      ]
     },
     "metadata": {},
     "output_type": "display_data"
    },
    {
     "name": "stdout",
     "output_type": "stream",
     "text": [
      "Final Difference:\n",
      "0.00948209074932\n"
     ]
    }
   ],
   "source": [
    "# plot difference vs. iteration number\n",
    "resid_store = resid_store[1:iterr]\n",
    "plt.plot(np.arange(1,iterr), resid_store)\n",
    "plt.grid(\"on\")\n",
    "plt.xlabel(\"Iteration Number\")\n",
    "plt.ylabel(\"Difference\")\n",
    "#plt.yscale(\"log\")\n",
    "plt.show()\n",
    "\n",
    "# also print the final difference \n",
    "print(\"Final Difference:\")\n",
    "print(resid_store[-1])"
   ]
  },
  {
   "cell_type": "code",
   "execution_count": 12,
   "metadata": {},
   "outputs": [
    {
     "data": {
      "text/plain": [
       "<matplotlib.colorbar.Colorbar at 0x108f58210>"
      ]
     },
     "execution_count": 12,
     "metadata": {},
     "output_type": "execute_result"
    },
    {
     "data": {
      "image/png": "[encoded data removed]",
      "text/plain": [
       "<matplotlib.figure.Figure at 0x108ca6950>"
      ]
     },
     "metadata": {},
     "output_type": "display_data"
    }
   ],
   "source": [
    "# apply mirror symmetry around x = 0 to create a full potential map\n",
    "Vfinal = np.flipud(V)\n",
    "Vfinal = np.append(Vfinal, V, axis=0)\n",
    "\n",
    "# plot the computed weighting potential\n",
    "plt.imshow(Vfinal, interpolation=\"None\", cmap=\"jet\", vmin=-0.1)\n",
    "plt.xticks([])\n",
    "plt.yticks([])\n",
    "plt.colorbar()"
   ]
  },
  {
   "cell_type": "code",
   "execution_count": 13,
   "metadata": {},
   "outputs": [
    {
     "data": {
      "text/plain": [
       "<function matplotlib.pyplot.show>"
      ]
     },
     "execution_count": 13,
     "metadata": {},
     "output_type": "execute_result"
    },
    {
     "data": {
      "image/png": "[encoded data removed]",
      "text/plain": [
       "<matplotlib.figure.Figure at 0x108d10990>"
      ]
     },
     "metadata": {},
     "output_type": "display_data"
    }
   ],
   "source": [
    "# take a slice through the WP\n",
    "#plt.contourf(X,Y,V, 30)\n",
    "#plt.show()\n",
    "WPslice = V[:,30]\n",
    "\n",
    "plt.plot(x_range, WPslice)\n",
    "plt.grid(\"on\")\n",
    "plt.xlabel(\"Radius (mm)\")\n",
    "plt.ylabel(\"Weighting Potential\")\n",
    "plt.show"
   ]
  },
  {
   "cell_type": "code",
   "execution_count": null,
   "metadata": {
    "collapsed": true
   },
   "outputs": [],
   "source": []
  }
 ],
 "metadata": {
  "anaconda-cloud": {},
  "kernelspec": {
   "display_name": "Python 2",
   "language": "python",
   "name": "python2"
  },
  "language_info": {
   "codemirror_mode": {
    "name": "ipython",
    "version": 2
   },
   "file_extension": ".py",
   "mimetype": "text/x-python",
   "name": "python",
   "nbconvert_exporter": "python",
   "pygments_lexer": "ipython2",
   "version": "2.7.14"
  }
 },
 "nbformat": 4,
 "nbformat_minor": 1
}
